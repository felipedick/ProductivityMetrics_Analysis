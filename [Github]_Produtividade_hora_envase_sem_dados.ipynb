{
  "nbformat": 4,
  "nbformat_minor": 0,
  "metadata": {
    "colab": {
      "provenance": [],
      "authorship_tag": "ABX9TyPXRrN/HLJgRzBJ1+k5S3WK",
      "include_colab_link": true
    },
    "kernelspec": {
      "name": "python3",
      "display_name": "Python 3"
    },
    "language_info": {
      "name": "python"
    }
  },
  "cells": [
    {
      "cell_type": "markdown",
      "metadata": {
        "id": "view-in-github",
        "colab_type": "text"
      },
      "source": [
        "<a href=\"https://colab.research.google.com/github/felipedick/ProductivityMetrics_Analysis/blob/main/%5BGithub%5D_Produtividade_hora_envase_sem_dados.ipynb\" target=\"_parent\"><img src=\"https://colab.research.google.com/assets/colab-badge.svg\" alt=\"Open In Colab\"/></a>"
      ]
    },
    {
      "cell_type": "code",
      "execution_count": null,
      "metadata": {
        "id": "-YabzI3tJkWg"
      },
      "outputs": [],
      "source": [
        "#Importing database\n",
        "\n",
        "import pandas as pd\n",
        "\n",
        "lista_equipamentos = pd.read_excel ('1. Lista de equipamentos.xlsx', dtype={'Recurso': str})\n",
        "lista_SKU = pd.read_excel('2. Lista SKU.xlsx', dtype={'Código': str })\n",
        "hist_producao = pd.read_excel('3. PRODUCAO ENVASE BALANCA.xlsx', dtype={'Material': str, 'Recurso': str, 'Qtd.boa confirmada (GMEIN)': float, 'Operação': str})\n",
        "equipamentos_prod = pd.read_excel ('4. Produtividade equipamentos.xlsx')"
      ]
    },
    {
      "cell_type": "code",
      "source": [
        "#Checking data type\n",
        "tipos_de_dados1 = lista_SKU.dtypes\n",
        "print (tipos_de_dados1)"
      ],
      "metadata": {
        "id": "owjpdvFPN2HI"
      },
      "execution_count": null,
      "outputs": []
    },
    {
      "cell_type": "code",
      "source": [
        "#Checking data type\n",
        "tipos_de_dados2 = lista_equipamentos.dtypes\n",
        "print (tipos_de_dados2)"
      ],
      "metadata": {
        "id": "sKKOl2WYOB03"
      },
      "execution_count": null,
      "outputs": []
    },
    {
      "cell_type": "code",
      "source": [
        "#Checking data type\n",
        "tipos_de_dados3 = hist_producao.dtypes\n",
        "print (tipos_de_dados3)"
      ],
      "metadata": {
        "id": "pZzXYOcmPPQI"
      },
      "execution_count": null,
      "outputs": []
    },
    {
      "cell_type": "code",
      "source": [
        "#Checking main database information (historical data)\n",
        "hist_producao.head()"
      ],
      "metadata": {
        "id": "1raq6ncOQ2u7"
      },
      "execution_count": null,
      "outputs": []
    },
    {
      "cell_type": "code",
      "source": [
        "#Removing empty values\n",
        "hist_producao = hist_producao.dropna(subset=['Material'])\n",
        "hist_producao.head(30)"
      ],
      "metadata": {
        "id": "2SxNqKasROes"
      },
      "execution_count": null,
      "outputs": []
    },
    {
      "cell_type": "code",
      "source": [
        "#Renaming column Material with standard\n",
        "lista_SKU.rename(columns={lista_SKU.columns[0]: 'Material'}, inplace=True)"
      ],
      "metadata": {
        "id": "KOMGfonOZe2I"
      },
      "execution_count": null,
      "outputs": []
    },
    {
      "cell_type": "code",
      "source": [
        "#Adding the type of SKU and the equipment name\n",
        "\n",
        "hist_producao = pd.merge(hist_producao, lista_SKU[['Material','Integrador  Envase']], on =['Material'], how='left' )\n",
        "hist_producao = pd.merge(hist_producao, lista_equipamentos[['Recurso','Equipamento']], on =['Recurso'], how='left' )\n"
      ],
      "metadata": {
        "id": "UrgXKugiYk_4"
      },
      "execution_count": null,
      "outputs": []
    },
    {
      "cell_type": "code",
      "source": [
        "#Keeping only \"61\" items, which are the items of interest (final product code starts with \"61\")\n",
        "hist_producao = hist_producao[hist_producao['Material'].str.startswith('61')]\n",
        "hist_producao.head()"
      ],
      "metadata": {
        "id": "fqGvvnnJdDx3"
      },
      "execution_count": null,
      "outputs": []
    },
    {
      "cell_type": "code",
      "source": [
        "#Renaming columns\n",
        "hist_producao.rename(columns={hist_producao.columns[3]: 'Qtde'}, inplace=True)\n",
        "hist_producao.rename(columns={hist_producao.columns[7]: 'Data Dia'}, inplace=True)\n",
        "hist_producao.rename(columns={hist_producao.columns[8]: 'Data hora'}, inplace=True)\n",
        "hist_producao.rename(columns={hist_producao.columns[11]: 'SKU'}, inplace=True)\n",
        "hist_producao.head()"
      ],
      "metadata": {
        "id": "kEpTeOnawzM2"
      },
      "execution_count": null,
      "outputs": []
    },
    {
      "cell_type": "code",
      "source": [
        "#Removing quantities higher than 900, which are errors of the report\n",
        "hist_producao = hist_producao[(hist_producao['Qtde'] <= 900) & (hist_producao['Qtde'] >= -900)]"
      ],
      "metadata": {
        "id": "dc3W71CRu64z"
      },
      "execution_count": null,
      "outputs": []
    },
    {
      "cell_type": "code",
      "source": [
        "#Merging date (day/month/year) with hour info\n",
        "hist_producao['DataCompleta'] = hist_producao['Data Dia'] + pd.to_timedelta(hist_producao['Data hora'].astype(str))"
      ],
      "metadata": {
        "id": "ML70Gg7ccvr3"
      },
      "execution_count": null,
      "outputs": []
    },
    {
      "cell_type": "code",
      "source": [
        "# Rounding the hour to use as a reference to calculate productivity by hour\n",
        "hist_producao['Data Arredondada Baixo'] = hist_producao['DataCompleta'].dt.floor('H')"
      ],
      "metadata": {
        "id": "jKdYesFQyW3O"
      },
      "execution_count": null,
      "outputs": []
    },
    {
      "cell_type": "code",
      "source": [
        "#Creating column to validate the hours that will actually be computed (remove meal hours, start and ending of production)\n",
        "hist_producao['Validacao'] = ''"
      ],
      "metadata": {
        "id": "DlACipWZ8orH"
      },
      "execution_count": null,
      "outputs": []
    },
    {
      "cell_type": "code",
      "source": [
        "#Calculate productivity by hour, product, SKU and equipment\n",
        "\n",
        "Agrupamento = ['Material','Descrição material','Equipamento','Data Arredondada Baixo','SKU']\n",
        "produtividade_hora = hist_producao.groupby(Agrupamento)['Qtde'].sum().reset_index()\n",
        "\n",
        "#Adding the target by equipment and SKU\n",
        "produtividade_hora = pd.merge(produtividade_hora, equipamentos_prod[['Equipamento','SKU','Produtividade por hora']], on =['Equipamento','SKU'], how='left' )\n",
        "\n",
        "#Dropping equipments/SKU without target (possible error of database)\n",
        "produtividade_hora = produtividade_hora.dropna(subset=['Produtividade por hora'])\n",
        "\n",
        "produtividade_hora.head()"
      ],
      "metadata": {
        "id": "yas-dFeVib4B"
      },
      "execution_count": null,
      "outputs": []
    },
    {
      "cell_type": "code",
      "source": [
        "#Create a list of valid hours that are considered in the calculation. It needs to have production 1 hour before and 1 hour after.\n",
        "#(Removes beginning and ending of production,production stops and others)\n",
        "\n",
        "\n",
        "resultados = []\n",
        "\n",
        "\n",
        "for index, row in produtividade_hora.iterrows():\n",
        "    hora_alvo = row['Data Arredondada Baixo']\n",
        "    produto_alvo = row['Material']\n",
        "    recurso_alvo = row['Equipamento']\n",
        "\n",
        "    hora_anterior = produtividade_hora[\n",
        "        (produtividade_hora['Data Arredondada Baixo'] >= hora_alvo - pd.Timedelta(hours=1)) &\n",
        "        (produtividade_hora['Data Arredondada Baixo'] < hora_alvo) &\n",
        "        (produtividade_hora['Material'] == produto_alvo) &\n",
        "        (produtividade_hora['Equipamento'] == recurso_alvo)\n",
        "    ]\n",
        "\n",
        "    hora_posterior = produtividade_hora[\n",
        "        (produtividade_hora['Data Arredondada Baixo'] > hora_alvo) &\n",
        "        (produtividade_hora['Data Arredondada Baixo'] <= hora_alvo + pd.Timedelta(hours=1)) &\n",
        "        (produtividade_hora['Material'] == produto_alvo) &\n",
        "        (produtividade_hora['Equipamento'] == recurso_alvo)\n",
        "    ]\n",
        "\n",
        "\n",
        "    producao_anterior = len(hora_anterior) > 0\n",
        "    producao_posterior = len(hora_posterior) > 0\n",
        "    coluna = 'Validacao'\n",
        "    linha = row\n",
        "\n",
        "    resultados.append({'HoraAlvo': hora_alvo, 'Producao': producao_anterior & producao_posterior})\n",
        "    produtividade_hora.at[index, coluna] = producao_anterior & producao_posterior\n",
        "\n",
        "resultados_df = pd.DataFrame(resultados)\n"
      ],
      "metadata": {
        "id": "2_fpt8CM1xrx"
      },
      "execution_count": null,
      "outputs": []
    },
    {
      "cell_type": "code",
      "source": [
        "#Filter the results that are valid\n",
        "\n",
        "#Creates a database (df) to keep all the original info including valid and not valid hours\n",
        "df = produtividade_hora\n",
        "\n",
        "#Database for reference with only valid hours\n",
        "produtividade_hora = produtividade_hora[produtividade_hora['Validacao'] == True]\n",
        "\n",
        "df.head()"
      ],
      "metadata": {
        "id": "4fNdug5D3Orp"
      },
      "execution_count": null,
      "outputs": []
    },
    {
      "cell_type": "code",
      "source": [
        "#Adds the name of the plant of the equipment (easier for the management team to understand which equipment is)\n",
        "produtividade_hora = pd.merge(produtividade_hora, lista_equipamentos[['Equipamento', 'Planta ajustada']], on='Equipamento')\n",
        "produtividade_hora.head()"
      ],
      "metadata": {
        "id": "NZ1uNcla4mkG"
      },
      "execution_count": null,
      "outputs": []
    },
    {
      "cell_type": "code",
      "source": [
        "#Checks number of rows and columns for the database\n",
        "print(produtividade_hora.shape[0],hist_producao.shape[0] )"
      ],
      "metadata": {
        "id": "Png347rphlQ1"
      },
      "execution_count": null,
      "outputs": []
    },
    {
      "cell_type": "code",
      "source": [
        "#Creates a ppt presentation with one slide by equipment with each SKU, distribution, máximum, median and target\n",
        "# Creates PowerPoint with layout widescreen\n",
        "presentation = Presentation()\n",
        "presentation.slide_width = Inches(16)\n",
        "presentation.slide_height = Inches(9)\n",
        "\n",
        "# Creates a dictionary for tracking the slides by equipment\n",
        "equipamento_slides = {}\n",
        "matriz_data = {'Equipamento': [], 'SKU': [], 'Planta ajustada': [], 'Qtde Horas': [], 'Mediana de produtividade': [], 'Meta de produtividade': []}\n",
        "\n",
        "for (equipamento, sku, planta_ajustada), grupo in produtividade_hora.groupby(['Equipamento', 'SKU', 'Planta ajustada']):\n",
        "\n",
        "    #Removing negative values (error)\n",
        "    grupo = grupo[grupo['Qtde']>0]\n",
        "\n",
        "   #Creates a fig\n",
        "    fig, ax = plt.subplots(figsize=(10, 6))\n",
        "    ax.hist(grupo['Qtde'], bins=10, color='#D3D3D3', edgecolor='black')\n",
        "    mediana = grupo['Qtde'].median()\n",
        "    filtro = equipamentos_prod[(equipamentos_prod['Equipamento'] == equipamento) & (equipamentos_prod['SKU'] == sku)]\n",
        "    meta = filtro['Produtividade por hora'].median()\n",
        "    qtde_horas = len(grupo['Qtde'])\n",
        "    if math.isnan(meta):\n",
        "        meta = 0\n",
        "\n",
        "    # Draw median line and target line\n",
        "    plt.axvline(mediana, color='red', linestyle='dashed', linewidth=2, label=f'Mediana: {mediana}')\n",
        "    plt.axvline(meta, color='green', linestyle='dashed', linewidth=2, label=f'Meta: {int(meta)}')\n",
        "    plt.text(mediana, plt.ylim()[1], f'Mediana: {int(mediana)}', color='red', verticalalignment='top', horizontalalignment='left')\n",
        "    plt.text(meta, plt.ylim()[1] - (plt.ylim()[1] * 0.05), f'Meta: {int(meta)}', color='green', verticalalignment='top', horizontalalignment='left')\n",
        "    ax.set_xlabel('Produtividade (kg.L) por hora', fontsize = 14)\n",
        "    ax.set_ylabel('Frequência / Qtde horas', fontsize = 14)\n",
        "    ax.set_title(f'Histograma de Produtividade por hora para: \\nEquipamento: {equipamento} ({planta_ajustada}), SKU: {sku}, Qtde horas: {qtde_horas}',  fontsize = 18)\n",
        "\n",
        "    # Saves fig\n",
        "    buffer = io.BytesIO()\n",
        "    plt.savefig(buffer, format='png')\n",
        "    plt.close(fig)\n",
        "\n",
        "     # Add image to the list of the slide\n",
        "    if equipamento not in equipamento_slides:\n",
        "        equipamento_slides[equipamento] = {'imagens': [], 'planta_ajustada': planta_ajustada}\n",
        "    equipamento_slides[equipamento]['imagens'].append(buffer)\n",
        "\n",
        "    matriz_data['Equipamento'].append(equipamento)\n",
        "    matriz_data['SKU'].append(sku)\n",
        "    matriz_data['Planta ajustada'].append(planta_ajustada)\n",
        "    matriz_data['Qtde Horas'].append(qtde_horas)\n",
        "    matriz_data['Mediana de produtividade'].append(mediana)\n",
        "    matriz_data['Meta de produtividade'].append(meta)\n",
        "\n",
        "#Creates a new table\n",
        "matriz_df = pd.DataFrame(matriz_data)\n",
        "\n",
        "#Iterates equipment adding for each slide all info for each equipment (charts, title)\n",
        "for equipamento, data in equipamento_slides.items():\n",
        "    imagens = data['imagens']\n",
        "    planta_ajustada = data['planta_ajustada']\n",
        "\n",
        "#Slide layout\n",
        "    slide = presentation.slides.add_slide(presentation.slide_layouts[6])  # 6 é o layout em branco\n",
        "\n",
        "#Slide title\n",
        "    title_box = slide.shapes.add_textbox(left=Inches(0), top=Inches(0), width=Inches(14.4), height=Inches(1))\n",
        "    title_frame = title_box.text_frame\n",
        "    title = title_frame.paragraphs[0]\n",
        "    title.text = f'Equipamento: {equipamento} ({planta_ajustada})'\n",
        "\n",
        "#Font\n",
        "    title.font.bold = True\n",
        "    title.font.size = Pt(24)\n",
        "    title.font.name = 'Calibri'\n",
        "    title.font.color.rgb = RGBColor(192, 0, 0)  # Vermelho (192, 0, 0)\n",
        "\n",
        "#Alignment\n",
        "    title.alignment = PP_ALIGN.LEFT\n",
        "\n",
        "#Position the charts\n",
        "    for i, imagem_buffer in enumerate(imagens):\n",
        "        imagem = Image.open(imagem_buffer)\n",
        "        imagem.save(f'histogram_{i}.png')\n",
        "        tamanho_vert = 4\n",
        "        tamanho_hor = 7.5\n",
        "\n",
        "        col = i % 2\n",
        "        row = i // 2\n",
        "        left = Cm(1.5) + 2* col * (Inches(tamanho_hor/2) + Cm(0))\n",
        "        top = Cm(2) + 2* row * (Inches(tamanho_vert/2) + Inches(0))\n",
        "\n",
        "        # Add image\n",
        "        slide.shapes.add_picture(f'histogram_{i}.png', left, top, Inches(7.5), Inches(4))\n",
        "\n",
        "# Save presentation\n",
        "presentation.save('histogramas.pptx')"
      ],
      "metadata": {
        "id": "YqNzxRwHyIdM"
      },
      "execution_count": null,
      "outputs": []
    },
    {
      "cell_type": "code",
      "source": [
        "#Getting a consolidate table by equipment, plant and SKU and calculating the \"efficiency\" and percentage of hours by each equipment and SKU\n",
        "#Efficiency was set as the median value divided by the target\n",
        "\n",
        "matriz_df['Produtividade'] = matriz_df['Mediana de produtividade'] / matriz_df['Meta de produtividade']\n",
        "matriz_df['% horas'] = 100 * matriz_df['Qtde Horas'] /  matriz_df['Qtde Horas'].sum()\n",
        "matriz_df.head()"
      ],
      "metadata": {
        "id": "mASeAfUoKcRU"
      },
      "execution_count": null,
      "outputs": []
    },
    {
      "cell_type": "code",
      "source": [
        "#Creates column merging Equipment and SKU\n",
        "matriz_df['Equipamento / SKU'] = matriz_df['Equipamento'] + ' - ' + matriz_df['SKU']\n",
        "matriz_df.head()"
      ],
      "metadata": {
        "id": "oK63fPjj4Mi3"
      },
      "execution_count": null,
      "outputs": []
    },
    {
      "cell_type": "code",
      "source": [
        "#Calculating the pareto equipment / SKU (accumulated 70% of the total hours)\n",
        "import numpy as np\n",
        "matriz_df = matriz_df.sort_values(by='Qtde Horas', ascending=False)\n",
        "matriz_df['% horas Acumulado'] = matriz_df['% horas'].cumsum()\n",
        "matriz_df.head()\n",
        "limitador_horas = 70\n",
        "pareto_horas = matriz_df.loc[matriz_df['% horas Acumulado'] > limitador_horas, 'Qtde Horas'].iloc[0]\n",
        "print (pareto_horas)"
      ],
      "metadata": {
        "id": "7CwhmXM15N9Q"
      },
      "execution_count": null,
      "outputs": []
    },
    {
      "cell_type": "code",
      "source": [
        "matriz_df = matriz_df.reset_index(drop=True)\n",
        "matriz_df.head(20)"
      ],
      "metadata": {
        "id": "pCQ8WHGf_fYc"
      },
      "execution_count": null,
      "outputs": []
    },
    {
      "cell_type": "code",
      "source": [
        "#Generating a slide with a chart with the summary of all equipment\n",
        "\n",
        "from pptx import Presentation\n",
        "from pptx.util import Pt, Inches\n",
        "import matplotlib.pyplot as plt\n",
        "from matplotlib.ticker import FuncFormatter\n",
        "\n",
        "# Open current presentation\n",
        "presentation = Presentation('histogramas.pptx')\n",
        "\n",
        "#Layout\n",
        "slide_layout = presentation.slide_layouts[0]\n",
        "\n",
        "#New slide\n",
        "first_slide = presentation.slides.add_slide(slide_layout)\n",
        "\n",
        "#Chart Size\n",
        "largura_cm = 35\n",
        "altura_cm = 23\n",
        "largura = Inches(largura_cm * 0.393701)\n",
        "altura = Inches(altura_cm * 0.393701)\n",
        "left = (Inches(16) - largura) / 2\n",
        "top = (Inches(9) - altura) / 2\n",
        "\n",
        "#Fig\n",
        "fig, ax = plt.subplots(figsize=(largura_cm, altura_cm))\n",
        "\n",
        "#Scatter plot - Hours vs Efficiency\n",
        "ax.scatter(matriz_df['Qtde Horas'], matriz_df['Produtividade'])\n",
        "\n",
        "#Label\n",
        "for i, equipamento in enumerate(matriz_df['Equipamento / SKU']):\n",
        "    ax.annotate(equipamento, (matriz_df['Qtde Horas'][i]+5, matriz_df['Produtividade'][i]), fontsize=12)\n",
        "\n",
        "# Adding the \"Pareto\" line and the target for Efficiency.\n",
        "ax.axvline(x=pareto_horas, color='r', linestyle='--', label='Separador - Pareto')\n",
        "ax.axhline(y=0.85, color='g', linestyle='--', label='Meta Produtividade - 85%')\n",
        "\n",
        "# Axis as a percentage\n",
        "def percent_formatter(x, pos):\n",
        "    return f'{x:.0%}'\n",
        "ax.yaxis.set_major_formatter(FuncFormatter(percent_formatter))\n",
        "ax.tick_params(labelsize=24)\n",
        "\n",
        "# Label axis\n",
        "ax.set_xlabel('Quantidade de Horas', fontsize=24)\n",
        "ax.set_ylabel('Produtividade', fontsize=24)\n",
        "\n",
        "#Legend\n",
        "ax.legend(fontsize=36)\n",
        "\n",
        "# Axis limits\n",
        "ax.set_xlim(0, max(matriz_df['Qtde Horas']) + 200)\n",
        "ax.set_ylim(0, max(matriz_df['Produtividade']) + 0.1)\n",
        "\n",
        "# Add fig\n",
        "fig.savefig('scatter_plot.png')\n",
        "first_slide.shapes.add_picture('scatter_plot.png', left, top, largura, altura)\n",
        "\n",
        "#Slide title\n",
        "title_box = first_slide.shapes.add_textbox(left=Inches(0), top=Inches(0), width=Inches(14.4), height=Inches(1))\n",
        "title_frame = title_box.text_frame\n",
        "title = title_frame.paragraphs[0]\n",
        "title.text = f'Resumo'\n",
        "\n",
        "#Title font\n",
        "title.font.bold = True\n",
        "title.font.size = Pt(24)\n",
        "title.font.name = 'Calibri'\n",
        "title.font.color.rgb = RGBColor(192, 0, 0)  # Vermelho (192, 0, 0)\n",
        "\n",
        "#Title Alignment\n",
        "title.alignment = PP_ALIGN.LEFT\n",
        "\n",
        "#Save presentation\n",
        "presentation.save('histogramas_atualizado.pptx')\n",
        "\n",
        "#Show Chart\n",
        "plt.show()"
      ],
      "metadata": {
        "id": "emKJ5rMDAtzO"
      },
      "execution_count": null,
      "outputs": []
    },
    {
      "cell_type": "code",
      "source": [
        "#Generating table with summary including max output per hour\n",
        "\n",
        "#Grouping results\n",
        "resumo_recurso = produtividade_hora.groupby(['Equipamento', 'SKU', 'Planta ajustada', 'Descrição material', 'Data Arredondada Baixo'])['Qtde'].sum()\n",
        "resumo_recurso= resumo_recurso.reset_index()\n",
        "resumo_recurso = resumo_recurso[resumo_recurso['Qtde']>0]\n",
        "resumo_recurso.head()\n"
      ],
      "metadata": {
        "id": "THLkOkxafDra"
      },
      "execution_count": null,
      "outputs": []
    },
    {
      "cell_type": "code",
      "source": [
        "\n",
        "# Calculates the descriptive statistics\n",
        "resumo_descritivo = resumo_recurso.groupby(['Equipamento', 'SKU']).describe(percentiles=[.25, .5, .75])\n",
        "resumo_descritivo.head()"
      ],
      "metadata": {
        "id": "MZO_xPA5zfQQ"
      },
      "execution_count": null,
      "outputs": []
    },
    {
      "cell_type": "code",
      "source": [
        "\n",
        "#Adding target to the table\n",
        "resumo_descritivo = pd.merge(resumo_descritivo, equipamentos_prod[['Equipamento','SKU','Produtividade por hora']], on=['Equipamento','SKU'], how='left')\n",
        "resumo_descritivo.head()"
      ],
      "metadata": {
        "id": "CSpJivZl2XsU"
      },
      "execution_count": null,
      "outputs": []
    },
    {
      "cell_type": "code",
      "source": [
        "\n",
        "# Calculates percentage using median, mean and max vs target\n",
        "resumo_descritivo['% máximo'] = resumo_descritivo['Qtde', 'max'] / resumo_descritivo['Produtividade por hora']\n",
        "resumo_descritivo['% media'] = resumo_descritivo['Qtde', 'mean'] / resumo_descritivo['Produtividade por hora']\n",
        "resumo_descritivo['% mediana'] = resumo_descritivo['Qtde', '50%'] / resumo_descritivo['Produtividade por hora']\n",
        "resumo_descritivo.head()"
      ],
      "metadata": {
        "id": "Z0fbhHuZGOHX"
      },
      "execution_count": null,
      "outputs": []
    },
    {
      "cell_type": "code",
      "source": [
        "#Renaming column for quantity of hours\n",
        "resumo_descritivo.rename(columns={resumo_descritivo.columns[2]: 'Qtde horas'}, inplace=True)"
      ],
      "metadata": {
        "id": "GyWgtkUUaZ6U"
      },
      "execution_count": null,
      "outputs": []
    },
    {
      "cell_type": "code",
      "source": [
        "#Exporting excel file\n",
        "nome_arquivo_excel = 'Produtividade por hora.xlsx'\n",
        "\n",
        "\n",
        "with pd.ExcelWriter(nome_arquivo_excel, engine='openpyxl') as writer:\n",
        "   hist_producao.to_excel(writer, sheet_name= 'Base historica', index=False)\n",
        "   df.to_excel(writer, sheet_name= 'Producao hora geral', index=False)\n",
        "   produtividade_hora.to_excel(writer, sheet_name= 'Producao hora valida', index=False)\n",
        "   resumo_descritivo.to_excel(writer, sheet_name= 'Resumo Recurso', index=False)"
      ],
      "metadata": {
        "id": "ZDO0VcTjHk4z"
      },
      "execution_count": null,
      "outputs": []
    }
  ]
}